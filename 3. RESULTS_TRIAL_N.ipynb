{
 "cells": [
  {
   "cell_type": "code",
   "execution_count": 1,
   "metadata": {},
   "outputs": [
    {
     "name": "stderr",
     "output_type": "stream",
     "text": [
      "/usr/lib64/python3.6/importlib/_bootstrap.py:205: RuntimeWarning: numpy.dtype size changed, may indicate binary incompatibility. Expected 96, got 88\n",
      "  return f(*args, **kwds)\n",
      "/usr/lib64/python3.6/importlib/_bootstrap.py:205: RuntimeWarning: numpy.dtype size changed, may indicate binary incompatibility. Expected 96, got 88\n",
      "  return f(*args, **kwds)\n"
     ]
    }
   ],
   "source": [
    "import numpy as np\n",
    "import pandas as pd\n",
    "import collections"
   ]
  },
  {
   "cell_type": "code",
   "execution_count": 2,
   "metadata": {},
   "outputs": [],
   "source": [
    "# int to str\n",
    "itos = pd.read_feather('VOCAB_TRIAL_N.feather')['term']\n",
    "# str to int\n",
    "stoi = collections.defaultdict(lambda:0, {v:k for k,v in enumerate(itos)})\n",
    "# Vocab size\n",
    "vs = len(itos)\n",
    "# int to label\n",
    "itol = pd.read_feather('52SubCodes.feather')['lbl']\n",
    "# label to int\n",
    "ltoi = collections.defaultdict(lambda:0, {v:k for k,v in enumerate(itol)})\n",
    "# Number of nominal classes\n",
    "n_classes = 52 #len(itol)"
   ]
  },
  {
   "cell_type": "code",
   "execution_count": 3,
   "metadata": {},
   "outputs": [],
   "source": [
    "# Reading model output (52 scores per obs.)\n",
    "all_scores = np.array(pd.read_feather('RESULTS/ALL_SCORES_TRIAL_N.feather'))"
   ]
  },
  {
   "cell_type": "code",
   "execution_count": 6,
   "metadata": {
    "collapsed": true
   },
   "outputs": [
    {
     "data": {
      "text/plain": [
       "array([[-1.0713015 , -2.1251574 , -0.8271496 , ...,  2.0954587 ,\n",
       "        -2.8083215 ,  3.3669405 ],\n",
       "       [-7.096634  , -7.828558  , -7.097658  , ..., -0.70420563,\n",
       "        -8.8441515 , -9.606399  ],\n",
       "       [-0.98943746, -2.0701406 , -0.7358266 , ...,  1.7351302 ,\n",
       "        -2.801204  ,  2.7284145 ],\n",
       "       ...,\n",
       "       [-6.500024  , -7.6443987 , -5.7558126 , ...,  5.1087055 ,\n",
       "        -4.267357  , -1.8587129 ],\n",
       "       [ 7.5834966 ,  0.7427149 ,  2.1449027 , ...,  1.7580149 ,\n",
       "         2.649633  , -3.4035885 ],\n",
       "       [ 4.5541677 ,  0.05107093,  1.7935351 , ...,  2.8682995 ,\n",
       "         2.5413446 , -2.7913396 ]], dtype=float32)"
      ]
     },
     "execution_count": 6,
     "metadata": {},
     "output_type": "execute_result"
    }
   ],
   "source": [
    "all_scores"
   ]
  },
  {
   "cell_type": "code",
   "execution_count": null,
   "metadata": {},
   "outputs": [],
   "source": [
    "# Applying softmax to get 52 probabilities for each obs.\n",
    "all_prob = [[(np.exp(score)/np.sum(np.exp(score)))] for score in all_scores[range(len(all_scores))]]\n",
    "all_prob = pd.DataFrame(np.squeeze(all_prob), columns=itol.values.astype('str'))"
   ]
  },
  {
   "cell_type": "code",
   "execution_count": null,
   "metadata": {},
   "outputs": [],
   "source": [
    "all_prob"
   ]
  },
  {
   "cell_type": "code",
   "execution_count": null,
   "metadata": {},
   "outputs": [],
   "source": [
    "# Saving probabilities dataframe\n",
    "all_prob.to_feather(\"RESULTS/ALL_PROB_TRIAL_N.feather\")"
   ]
  },
  {
   "cell_type": "code",
   "execution_count": null,
   "metadata": {},
   "outputs": [],
   "source": [
    "# Getting top 3 predictions\n",
    "all_top3 = [[itol[score] for score in np.argsort(-all_scores[y])[range(3)]] for y in range(len(all_scores))]\n",
    "all_top3 = pd.DataFrame(np.squeeze(all_top3), columns=np.array(['1st', '2nd', '3rd']))"
   ]
  },
  {
   "cell_type": "code",
   "execution_count": null,
   "metadata": {},
   "outputs": [],
   "source": [
    "all_top3"
   ]
  },
  {
   "cell_type": "code",
   "execution_count": null,
   "metadata": {},
   "outputs": [],
   "source": [
    "all_top3.to_feather('RESULTS/ALL_TOP3_TRIAL_N.feather')"
   ]
  }
 ],
 "metadata": {
  "kernelspec": {
   "display_name": "Python 3",
   "language": "python",
   "name": "python3"
  },
  "language_info": {
   "codemirror_mode": {
    "name": "ipython",
    "version": 3
   },
   "file_extension": ".py",
   "mimetype": "text/x-python",
   "name": "python",
   "nbconvert_exporter": "python",
   "pygments_lexer": "ipython3",
   "version": "3.6.2"
  }
 },
 "nbformat": 4,
 "nbformat_minor": 2
}
